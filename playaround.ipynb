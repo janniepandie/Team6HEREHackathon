{
 "cells": [
  {
   "cell_type": "code",
   "execution_count": 37,
   "metadata": {},
   "outputs": [],
   "source": [
    "import json\n",
    "import math\n",
    "import re"
   ]
  },
  {
   "cell_type": "code",
   "execution_count": 38,
   "metadata": {},
   "outputs": [],
   "source": [
    "with open('23599610/23599610_validations.geojson', 'r') as f:\n",
    "    geojson_data = json.load(f)\n",
    "with open('23599610/23599610_full_topology_data.geojson', 'r') as f:\n",
    "    topojson_data = json.load(f)\n",
    "with open('23599610/23599610_signs.geojson', 'r') as f:\n",
    "    signjson_data = json.load(f)\n"
   ]
  },
  {
   "cell_type": "code",
   "execution_count": 39,
   "metadata": {},
   "outputs": [],
   "source": [
    "def coordcheck(c1,c2,distance_threshold):\n",
    "    distance = math.sqrt((c2[0] - c1[0])**2 + (c2[1] - c1[1])**2)\n",
    "    \n",
    "    # Compare against thresholds\n",
    "    distance_check = distance < distance_threshold\n",
    "    return distance_check"
   ]
  },
  {
   "cell_type": "code",
   "execution_count": 40,
   "metadata": {},
   "outputs": [
    {
     "data": {
      "text/plain": [
       "'urn:here::here:Topology:107037225'"
      ]
     },
     "execution_count": 40,
     "metadata": {},
     "output_type": "execute_result"
    }
   ],
   "source": [
    "topojson_data['features'][0]['properties']['id']"
   ]
  },
  {
   "cell_type": "code",
   "execution_count": null,
   "metadata": {},
   "outputs": [
    {
     "name": "stdout",
     "output_type": "stream",
     "text": [
      "urn:here::here:Topology:158070718\n",
      "0\n",
      "{'partition_id': '23599610', 'id': 'urn:here::here:signs:1621752874458049432', 'widthCm': {'dimensionCm': 127}, 'heightCm': {'dimensionCm': 78}, 'signType': 'MOTORWAY', 'signValue': '', 'confidence': {'simpleScores': [{'score': 0.2873648047852831, 'sources': ['BMW_RSD'], 'scoreType': 'EXISTENCE', 'featureType': 'SIGN_EXISTENCE', 'positionCovariance': {'values': [0.27374980370180774, 0.03994823025780281, 2.817924011526292, 0.2951580213317938, 2.815995176119427, 3.077577268638773]}, 'existenceProbability': 0.2873648047852831}, {'score': 0.7398462025179068, 'sources': ['BMW_RSD'], 'scoreType': 'CLASSIFICATION', 'featureType': 'SIGN_CLASSIFICATION', 'positionCovariance': {'values': [0.27374980370180774, 0.03994823025780281, 2.817924011526292, 0.2951580213317938, 2.815995176119427, 3.077577268638773]}}, {'score': 0.8259949805388344, 'sources': ['BMW_RSD'], 'scoreType': 'SPATIAL', 'featureType': 'SIGN_GEOMETRY', 'positionCovariance': {'values': [0.27374980370180774, 0.03994823025780281, 2.817924011526292, 0.2951580213317938, 2.815995176119427, 3.077577268638773]}}]}, 'featureType': 'RoadSign', 'oldSourceId': None, 'orientation': {'covariance': {'values': [1.0, 0.0, 0.0, 1.0, 0.0, 1.0]}, 'orientation': {'w': -0.10972894363985526, 'x': -0.008940107593553126, 'y': -0.0009799672572864617, 'z': 0.9939208585536736}}, 'partitionId': 377593765.0, 'gfrGroupName': 'Motorway', 'colorEstimate': 'BLUE', 'shapeEstimate': 'RECTANGLE', 'isoCountryCode': 'DEU', 'vehicleHeading': 77, 'relatedSignInfo': None, 'signVariability': 'CONSTANT', '@ns:com:here:xyz': {'tags': ['conflation_id_urn:here::here:signs:1621752874458049432', '377593765', 'low_confidence_task', 'copyfromcit'], 'uuid': '82edee28-fb3b-40cc-b51b-878e8a234339', 'space': 'nPEkDz3L', 'createdAt': 1701801886128, 'updatedAt': 1701801886128, '_inputPosition': 16}, 'observationRatio': None, 'observationCounts': {'NTimesObserved': 34, 'NInputsObserved': 34, 'NInputsObservable': 35}, 'positionCovariance': None, '@ns:com:here:mom:meta': {'tid': 'urn:here::here:Signs-Transaction:436607', 'owner': 'RoadSign-orch-user', 'sourceId': 'BMW_RSD', 'operation': 'CREATED', 'conflationId': '3d576132-5036-46a7-a0f6-8e397b79ad30', 'modelVersion': '2.91', 'updatedByApp': 'conflation_service_algorithm', 'lastUpdatedBy': 'conflation_service', 'updatedByUser': 'RoadSign-orch-user', 'numeric_feature_id': '1621752874458049432'}, '@ns:com:here:mom:delta': None}\n",
      "urn:here::here:Topology:198120130\n",
      "1\n",
      "{'partition_id': '23599610', 'id': 'urn:here::here:signs:1621752876050240343', 'widthCm': {'dimensionCm': 99}, 'heightCm': {'dimensionCm': 91}, 'signType': 'MOTORWAY', 'signValue': '', 'confidence': {'simpleScores': [{'score': 0.8109052416580333, 'sources': ['BMW_RSD'], 'scoreType': 'EXISTENCE', 'featureType': 'SIGN_EXISTENCE', 'positionCovariance': {'values': [0.5431719352500683, 0.0013349038956323434, 3.376910448665463, 0.5124008849045328, 3.3684889384715677, 3.8906776921926634]}, 'existenceProbability': 0.8109052416580333}, {'score': 0.6388946741940023, 'sources': ['BMW_RSD'], 'scoreType': 'CLASSIFICATION', 'featureType': 'SIGN_CLASSIFICATION', 'positionCovariance': {'values': [0.5431719352500683, 0.0013349038956323434, 3.376910448665463, 0.5124008849045328, 3.3684889384715677, 3.8906776921926634]}}, {'score': 0.7927617919782277, 'sources': ['BMW_RSD'], 'scoreType': 'SPATIAL', 'featureType': 'SIGN_GEOMETRY', 'positionCovariance': {'values': [0.5431719352500683, 0.0013349038956323434, 3.376910448665463, 0.5124008849045328, 3.3684889384715677, 3.8906776921926634]}}]}, 'featureType': 'RoadSign', 'oldSourceId': None, 'orientation': {'covariance': {'values': [1.0, 0.0, 0.0, 1.0, 0.0, 1.0]}, 'orientation': {'w': -0.979886531394368, 'x': -0.00013232386589112632, 'y': 0.0006550352189651431, 'z': -0.19955435102039507}}, 'partitionId': 377593765.0, 'gfrGroupName': 'Motorway', 'colorEstimate': 'BLUE', 'shapeEstimate': 'RECTANGLE', 'isoCountryCode': 'DEU', 'vehicleHeading': 246, 'relatedSignInfo': None, 'signVariability': 'CONSTANT', '@ns:com:here:xyz': {'tags': ['conflation_id_urn:here::here:signs:1621752876050240343', '377593765', 'copyfromcit'], 'uuid': 'a489ac36-13eb-49a3-a7f4-f993517d8890', 'space': 'nPEkDz3L', 'createdAt': 1701801886128, 'updatedAt': 1701801886128, '_inputPosition': 30}, 'observationRatio': None, 'observationCounts': {'NTimesObserved': 19, 'NInputsObserved': 19, 'NInputsObservable': 19}, 'positionCovariance': None, '@ns:com:here:mom:meta': {'tid': 'urn:here::here:Signs-Transaction:436607', 'owner': 'RoadSign-orch-user', 'sourceId': 'BMW_RSD', 'operation': 'CREATED', 'conflationId': '510b88f4-4adb-4df3-ace6-48a8d8be85d8', 'modelVersion': '2.91', 'updatedByApp': 'conflation_service_algorithm', 'lastUpdatedBy': 'conflation_service', 'updatedByUser': 'RoadSign-orch-user', 'numeric_feature_id': '1621752876050240343'}, '@ns:com:here:mom:delta': None}\n",
      "1\n",
      "{'type': 'Feature', 'properties': {'partition_id': '23599610', 'id': 'urn:here::here:signs:1621752885554932378', 'widthCm': {'dimensionCm': 63}, 'heightCm': {'dimensionCm': 56}, 'signType': 'PRIORITY_ROAD', 'signValue': '', 'confidence': {'simpleScores': [{'score': 0.988594226392563, 'sources': ['BMW_RSD'], 'scoreType': 'EXISTENCE', 'featureType': 'SIGN_EXISTENCE', 'positionCovariance': {'values': [1.0, 0.0, 0.0, 1.0, 0.0, 1.0]}, 'existenceProbability': 0.988594226392563}, {'score': 0.6660960856052172, 'sources': ['BMW_RSD'], 'scoreType': 'CLASSIFICATION', 'featureType': 'SIGN_CLASSIFICATION', 'positionCovariance': {'values': [1.0, 0.0, 0.0, 1.0, 0.0, 1.0]}}, {'score': 0.8678603712921159, 'sources': ['BMW_RSD'], 'scoreType': 'SPATIAL', 'featureType': 'SIGN_GEOMETRY', 'positionCovariance': {'values': [1.0, 0.0, 0.0, 1.0, 0.0, 1.0]}}]}, 'featureType': 'RoadSign', 'oldSourceId': None, 'orientation': {'covariance': {'values': [1.0, 0.0, 0.0, 1.0, 0.0, 1.0]}, 'orientation': {'w': 0.0024285969566915045, 'x': -0.00394137139133934, 'y': 9.572105144349195e-06, 'z': 0.9999892836509561}}, 'partitionId': 377593768.0, 'gfrGroupName': 'PriorityRoad', 'colorEstimate': 'WHITE', 'shapeEstimate': 'DIAMOND', 'isoCountryCode': 'DEU', 'vehicleHeading': 90, 'relatedSignInfo': None, 'signVariability': 'CONSTANT', '@ns:com:here:xyz': {'tags': ['event_id_', 'conflation_id_urn:here::here:signs:1621752885554932378', '377593768', 'copyfromcit'], 'uuid': 'f115b0dc-2fe7-4791-8189-06620a9da5bd', 'space': 'nPEkDz3L', 'createdAt': 1701801887591, 'updatedAt': 1701801887591, '_inputPosition': 5}, 'observationRatio': None, 'observationCounts': {'NTimesObserved': 30, 'NInputsObserved': 30, 'NInputsObservable': 30}, 'positionCovariance': None, '@ns:com:here:mom:meta': {'tid': 'urn:here::here:Signs-Transaction:436691', 'owner': 'RoadSign-orch-user', 'sourceId': 'BMW_RSD', 'operation': 'CREATED', 'conflationId': '4cc4c47a-4c6d-4b0c-96fc-30c84440e6a7', 'modelVersion': '2.91', 'updatedByApp': 'conflation_service_algorithm', 'lastUpdatedBy': 'conflation_service', 'updatedByUser': 'RoadSign-orch-user', 'numeric_feature_id': '1621752885554932378'}, '@ns:com:here:mom:delta': None}, 'geometry': {'type': 'Point', 'coordinates': [8.10511618, 49.19512757]}}\n",
      "urn:here::here:Topology:898386048\n",
      "2\n",
      "{'partition_id': '23599610', 'id': 'urn:here::here:signs:1621752884171909494', 'widthCm': {'dimensionCm': 98}, 'heightCm': {'dimensionCm': 88}, 'signType': 'MOTORWAY', 'signValue': None, 'confidence': {'simpleScores': [{'score': 0.9999999999999999, 'scoreType': 'CLASSIFICATION', 'featureType': 'SIGN_CLASSIFICATION'}, {'score': 0.7819543480873107, 'scoreType': 'EXISTENCE', 'featureType': 'SIGN_EXISTENCE'}]}, 'featureType': 'RoadSign', 'oldSourceId': 'BMW_RSD', 'orientation': {'covariance': {'values': [1.0, 0.0, 0.0, 0.0, 1.0, 0.0, 0.0, 0.0, 1.0]}, 'orientation': {'w': 0.9825448801850397, 'x': -0.0005544775637530815, 'y': -0.002928998929193736, 'z': -0.1860018062871162}}, 'partitionId': None, 'gfrGroupName': 'Motorway', 'colorEstimate': 'BLUE', 'shapeEstimate': 'RECTANGLE', 'isoCountryCode': 'DEU', 'vehicleHeading': 200, 'relatedSignInfo': [], 'signVariability': 'CONSTANT', '@ns:com:here:xyz': {'tags': ['event_id_b2c46ad2-2899-3eef-aba5-33eb7a919245', 'conflation_id_05347c4e-cc43-4750-8085-29314e2ffdc9', 'partition_id_377593767_20220708092000', '377593767', 'dimensional_threshold_met', 'confidence_score_passed_fp_threshold', 'observation_ratio_passed_threshold', 'urn:here::here:signs:1621752883831797315_is_duplicate_of_urn:here::here:signs:1621752881855332267_with_distance_of_0.6m', 'automation_updated_by_automation', 'automation_updated_by_k8vsgp0ihtggz8wii1mk', 'copyfromcit'], 'uuid': 'e76d18ab-6f73-44d4-a8de-4f76da0d9ebd', 'space': 'nPEkDz3L', 'createdAt': 1701801886112, 'updatedAt': 1701801886112, '_inputPosition': 32}, 'observationRatio': None, 'observationCounts': {'NTimesObserved': '19', 'NInputsObserved': '19', 'NInputsObservable': '22'}, 'positionCovariance': {'values': [0.010979394650417723, 0.0029749374144614083, 0.002083312086921023, 0.02618386036913542, -0.004059325518320065, 0.01255502541040385]}, '@ns:com:here:mom:meta': {'tid': 'urn:here::here:Signs-Transaction:436602', 'owner': 'RoadSign-orch-user', 'sourceId': 'MODERATED,BMW_RSD', 'operation': 'CREATED', 'modelVersion': '2.81.0', 'updatedByApp': 'K8VsgP0iHTggz8wIi1mK', 'lastUpdatedBy': 'upm|xZExyG1q8erhNJ7xZMQU', 'updatedByUser': 'RoadSign-orch-user'}, '@ns:com:here:mom:delta': {'originId': 'urn:here::here:signs:1621752884171909494', 'taskGridId': '', 'changeState': 'UPDATED', 'reviewState': 'UNPUBLISHED', 'potentialValue': 1, 'priorityCategory': 1}}\n",
      "2\n",
      "{'type': 'Feature', 'properties': {'partition_id': '23599610', 'id': 'urn:here::here:signs:1621752914234171021', 'widthCm': {'dimensionCm': 63}, 'heightCm': {'dimensionCm': 56}, 'signType': 'PRIORITY_ROAD', 'signValue': '', 'confidence': {'simpleScores': [{'score': 0.9885737034395357, 'sources': ['BMW_RSD'], 'scoreType': 'EXISTENCE', 'featureType': 'SIGN_EXISTENCE', 'positionCovariance': {'values': [1.000002154233848, 0.002118098835200577, 0.08459030841818506, 1.0021180988352005, 0.08459030841818506, 1.0845903084181852]}, 'existenceProbability': 0.9885737034395357}, {'score': 0.6327321876124078, 'sources': ['BMW_RSD'], 'scoreType': 'CLASSIFICATION', 'featureType': 'SIGN_CLASSIFICATION', 'positionCovariance': {'values': [1.000002154233848, 0.002118098835200577, 0.08459030841818506, 1.0021180988352005, 0.08459030841818506, 1.0845903084181852]}}, {'score': 0.9872603607505266, 'sources': ['BMW_RSD'], 'scoreType': 'SPATIAL', 'featureType': 'SIGN_GEOMETRY', 'positionCovariance': {'values': [1.000002154233848, 0.002118098835200577, 0.08459030841818506, 1.0021180988352005, 0.08459030841818506, 1.0845903084181852]}}]}, 'featureType': 'RoadSign', 'oldSourceId': None, 'orientation': {'covariance': {'values': [1.0, 0.0, 0.0, 1.0, 0.0, 1.0]}, 'orientation': {'w': 0.31229646259865385, 'x': -0.0022619018936191893, 'y': -0.0007435803085696279, 'z': -0.9499817105273745}}, 'partitionId': 377593774.0, 'gfrGroupName': 'PriorityRoad', 'colorEstimate': 'WHITE', 'shapeEstimate': 'DIAMOND', 'isoCountryCode': 'DEU', 'vehicleHeading': 53, 'relatedSignInfo': None, 'signVariability': 'CONSTANT', '@ns:com:here:xyz': {'tags': ['conflation_id_urn:here::here:signs:1621752914234171021', '377593774', 'copyfromcit'], 'uuid': '5d33d301-5387-4de8-858d-6f8dd42af81e', 'space': 'nPEkDz3L', 'createdAt': 1701801886388, 'updatedAt': 1701801886388, '_inputPosition': 134}, 'observationRatio': None, 'observationCounts': {'NTimesObserved': 154, 'NInputsObserved': 154, 'NInputsObservable': 156}, 'positionCovariance': None, '@ns:com:here:mom:meta': {'tid': 'urn:here::here:Signs-Transaction:436635', 'owner': 'RoadSign-orch-user', 'sourceId': 'BMW_RSD', 'operation': 'CREATED', 'conflationId': '3cdf7c63-c7d9-4ddf-beda-9b318dad25c3', 'modelVersion': '2.91', 'updatedByApp': 'conflation_service_algorithm', 'lastUpdatedBy': 'conflation_service', 'updatedByUser': 'RoadSign-orch-user', 'numeric_feature_id': '1621752914234171021'}, '@ns:com:here:mom:delta': None}, 'geometry': {'type': 'Point', 'coordinates': [8.1386065, 49.20899686]}}\n"
     ]
    }
   ],
   "source": [
    "for i in range(0,len(geojson_data['features'])):\n",
    "    signid = geojson_data['features'][i]['properties']['Feature ID']\n",
    "    ermes = geojson_data['features'][i]['properties']['Error Message']\n",
    "    topo = re.search(r'urn:here::here:Topology:(\\d+)', ermes).group(0)\n",
    "    print(i)\n",
    "    print(topo)\n",
    "    for j in range(0,len(signjson_data['features'])):\n",
    "        c2 = signjson_data['features'][j]['properties']['id']\n",
    "        if signjson_data['features'][j]['properties']['signType'] == 'MOTORWAY' and signid == c2:\n",
    "            print(signjson_data['features'][j]['properties'])\n",
    "    for x in range(0,len(topojson_data['features'])):\n",
    "        c3 = topojson_data['features'][x]['properties']['id']\n",
    "        if topo == c3:\n",
    "            print(signjson_data['features'][x])\n",
    "            print(x)"
   ]
  },
  {
   "cell_type": "code",
   "execution_count": 42,
   "metadata": {},
   "outputs": [],
   "source": [
    "file_path = 'data.json'\n",
    "\n",
    "with open(file_path, 'w') as json_file:\n",
    "    json.dump(topojson_data['features'][0]['properties'], json_file, indent=4)"
   ]
  },
  {
   "cell_type": "code",
   "execution_count": 43,
   "metadata": {},
   "outputs": [
    {
     "data": {
      "text/plain": [
       "4693"
      ]
     },
     "execution_count": 43,
     "metadata": {},
     "output_type": "execute_result"
    }
   ],
   "source": [
    "len(topojson_data['features'])"
   ]
  }
 ],
 "metadata": {
  "kernelspec": {
   "display_name": ".venv",
   "language": "python",
   "name": "python3"
  },
  "language_info": {
   "codemirror_mode": {
    "name": "ipython",
    "version": 3
   },
   "file_extension": ".py",
   "mimetype": "text/x-python",
   "name": "python",
   "nbconvert_exporter": "python",
   "pygments_lexer": "ipython3",
   "version": "3.12.5"
  }
 },
 "nbformat": 4,
 "nbformat_minor": 2
}
