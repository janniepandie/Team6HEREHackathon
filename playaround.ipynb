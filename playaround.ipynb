{
 "cells": [
  {
   "cell_type": "code",
   "execution_count": 125,
   "metadata": {},
   "outputs": [],
   "source": [
    "import json\n",
    "import math\n",
    "import re\n",
    "import numpy as np\n",
    "import pandas as pd"
   ]
  },
  {
   "cell_type": "code",
   "execution_count": 152,
   "metadata": {},
   "outputs": [],
   "source": [
    "def find_matching_range_speedlimit(target_value, range_list):\n",
    "    for item in range_list:\n",
    "        start = item['range']['startOffset']\n",
    "        end = item['range']['endOffset']\n",
    "        if start <= target_value <= end:\n",
    "            return item['isUnlimited'] or item['valueKph'] >= 100\n",
    "    return None "
   ]
  },
  {
   "cell_type": "code",
   "execution_count": 126,
   "metadata": {},
   "outputs": [],
   "source": [
    "def find_matching_range(target_value, range_list):\n",
    "    for item in range_list:\n",
    "        start = item['range']['startOffset']\n",
    "        end = item['range']['endOffset']\n",
    "        if start <= target_value <= end:\n",
    "            return item['value']\n",
    "    return None "
   ]
  },
  {
   "cell_type": "code",
   "execution_count": 127,
   "metadata": {},
   "outputs": [],
   "source": [
    "from math import radians, cos, sin, asin, sqrt\n",
    "\n",
    "def haversine(lon1, lat1, lon2, lat2):\n",
    "    \"\"\"\n",
    "    Calculate the great-circle distance in meters between two points \n",
    "    on the Earth (specified in decimal degrees)\n",
    "    \"\"\"\n",
    "    # Convert decimal degrees to radians \n",
    "    lon1, lat1, lon2, lat2 = map(radians, [lon1, lat1, lon2, lat2])\n",
    "    \n",
    "    # Haversine formula \n",
    "    dlon = lon2 - lon1 \n",
    "    dlat = lat2 - lat1 \n",
    "    a = sin(dlat/2)**2 + cos(lat1) * cos(lat2) * sin(dlon/2)**2\n",
    "    c = 2 * asin(sqrt(a)) \n",
    "    \n",
    "    # Radius of Earth in meters (mean radius = 6,371km)\n",
    "    r = 6371000\n",
    "    return c * r\n"
   ]
  },
  {
   "cell_type": "code",
   "execution_count": 128,
   "metadata": {},
   "outputs": [],
   "source": [
    "def filter_by_radius(df, ref_lat, ref_lon, radius_m=5.0,max_speed = 10):\n",
    "    \"\"\"\n",
    "    Filters DataFrame to rows within a specified radius (km) of a reference point.\n",
    "    \n",
    "    Args:\n",
    "        df: DataFrame with 'latitude' and 'longitude' columns\n",
    "        ref_lat: Reference latitude (center point)\n",
    "        ref_lon: Reference longitude (center point)\n",
    "        radius_km: Radius in meter\n",
    "        \n",
    "    Returns:\n",
    "        Filtered DataFrame with added 'distance_m' column\n",
    "    \"\"\"\n",
    "    # Calculate distance for each row\n",
    "    low_speed_df = df[df['speed'] < max_speed].copy()\n",
    "    \n",
    "    # Calculate distance for remaining points\n",
    "    low_speed_df['distance_km'] = low_speed_df.apply(\n",
    "        lambda row: haversine(ref_lat, ref_lon, row['latitude'], row['longitude']),\n",
    "        axis=1\n",
    "    )\n",
    "    \n",
    "    # Filter rows within radius\n",
    "    filtered_df = low_speed_df[low_speed_df['distance_km'] <= radius_m].copy()\n",
    "    \n",
    "    return filtered_df"
   ]
  },
  {
   "cell_type": "code",
   "execution_count": 129,
   "metadata": {},
   "outputs": [],
   "source": [
    "caseid = '23612004' \n",
    "prefix = caseid + '/' + caseid"
   ]
  },
  {
   "cell_type": "code",
   "execution_count": 130,
   "metadata": {},
   "outputs": [],
   "source": [
    "with open(prefix +'_validations.geojson', 'r') as f:\n",
    "    geojson_data = json.load(f)\n",
    "with open(prefix +'_full_topology_data.geojson', 'r') as f:\n",
    "    topojson_data = json.load(f)\n",
    "with open(prefix +'_signs.geojson', 'r') as f:\n",
    "    signjson_data = json.load(f)\n",
    "\n",
    "probedf = pd.read_csv(prefix +'_probe_data.csv')"
   ]
  },
  {
   "cell_type": "code",
   "execution_count": 131,
   "metadata": {},
   "outputs": [],
   "source": [
    "def coordcheck(c1s,c2,distance_threshold):\n",
    "    for c1 in c1s:\n",
    "        distance = haversine(c1[0],c1[1],c2[0],c2[1])\n",
    "        if distance < distance_threshold:\n",
    "            return [True, [c1[0],c1[1]]]\n",
    "    return [False, []]"
   ]
  },
  {
   "cell_type": "code",
   "execution_count": 132,
   "metadata": {},
   "outputs": [
    {
     "name": "stdout",
     "output_type": "stream",
     "text": [
      "0\n",
      "{'type': 'Feature', 'properties': {'Rule Code': 'WSIGN406', 'Feature ID': 'urn:here::here:signs:1622604560811073713', 'Feature Type': 'Road Sign', 'Error Message': 'Motorway Sign urn:here::here:signs:1622604560811073713 at Lat 12.1422211 Lon 49.59187449 is associated to a Topology urn:here::here:Topology:742508191 that has a range for Pedestrian = TRUE within 20m distance.', 'Status': 'ACTIVE', 'LE Allowed': False, 'Clean for Extract': False, 'Partition ID': 23612004, 'ISO': 'DEU', 'Violation ID': 'urn:here::here:Violation:signs-1dc67e5f-3d8a-3f55-83c0-cf9addea388d'}, 'geometry': {'type': 'Point', 'coordinates': [12.14222, 49.59187]}}\n",
      "0.7884877881901173\n",
      "0.6666666666666666\n",
      "43\n",
      "{'range': {'endOffset': 1.0, 'startOffset': 0.0}, 'value': False}\n",
      "513\n"
     ]
    }
   ],
   "source": [
    "for i in range(0,len(geojson_data['features'])):\n",
    "    signid = geojson_data['features'][i]['properties']['Feature ID']\n",
    "    ermes = geojson_data['features'][i]['properties']['Error Message']\n",
    "    topo = re.search(r'urn:here::here:Topology:(\\d+)', ermes).group(0)\n",
    "    print(i)\n",
    "    print(geojson_data['features'][i])\n",
    "    for j in range(0,len(signjson_data['features'])):\n",
    "        c2 = signjson_data['features'][j]['properties']['id']\n",
    "        if signjson_data['features'][j]['properties']['signType'] == 'MOTORWAY' and signid == c2:\n",
    "            existingscore = signjson_data['features'][j]['properties']['confidence']['simpleScores'][0]['existenceProbability']\n",
    "            print(existingscore)\n",
    "            observedict = signjson_data['features'][j]['properties']['observationCounts']\n",
    "            observescore = observedict['NInputsObserved']/observedict['NInputsObservable']\n",
    "            print(observescore)\n",
    "            print(j)\n",
    "    for x in range(0,len(topojson_data['features'])):\n",
    "        c3 = topojson_data['features'][x]['properties']['id']\n",
    "        if topo == c3:\n",
    "            motorwaydict = topojson_data['features'][x]['properties']['topologyCharacteristics']['isMotorway'][0]\n",
    "            asscoiatedtopo = topojson_data['features'][x]\n",
    "            asscoiatedindex = x\n",
    "            print(motorwaydict)\n",
    "            print(x)"
   ]
  },
  {
   "cell_type": "code",
   "execution_count": 133,
   "metadata": {},
   "outputs": [],
   "source": [
    "# def computefacing(quat):\n",
    "#     w, x, y, z = quat['w'], quat['x'], quat['y'], quat['z']\n",
    "    \n",
    "#     # Calculate forward vector\n",
    "#     forward = np.array([\n",
    "#         2 * (x*z + w*y),      # East-West (X)\n",
    "#         2 * (y*z - w*x),      # North-South (Y) \n",
    "#         1 - 2 * (x*x + y*y)   # Up-Down (Z)\n",
    "#     ])\n",
    "#     forward /= np.linalg.norm(forward)\n",
    "    \n",
    "#     # Calculate bearing (0°=North, 90°=East)\n",
    "#     bearing = np.degrees(np.arctan2(forward[0], forward[1])) % 360\n",
    "#     return bearin"
   ]
  },
  {
   "cell_type": "code",
   "execution_count": 134,
   "metadata": {},
   "outputs": [],
   "source": [
    "signcord = geojson_data['features'][0]['geometry']['coordinates']\n",
    "# face =  signjson_data['features'][0]['properties']['orientation']['orientation']"
   ]
  },
  {
   "cell_type": "code",
   "execution_count": null,
   "metadata": {},
   "outputs": [
    {
     "name": "stdout",
     "output_type": "stream",
     "text": [
      "True\n",
      "False\n",
      "False\n",
      "True\n",
      "False\n",
      "False\n",
      "False\n",
      "False\n",
      "False\n"
     ]
    },
    {
     "data": {
      "image/png": "[encoded data removed]",
      "text/plain": [
       "<Figure size 640x480 with 1 Axes>"
      ]
     },
     "metadata": {},
     "output_type": "display_data"
    }
   ],
   "source": [
    "import matplotlib.pyplot as plt\n",
    "from itertools import cycle\n",
    "color_cycle = cycle(['red', 'green', 'blue', 'orange', 'purple', 'cyan'])\n",
    "asscoiatecond, coord = coordcheck(asscoiatedtopo['geometry']['coordinates'],signcord,20)\n",
    "allpossibledict = []\n",
    "if existingscore < 0.5 and observescore<0.5:\n",
    "    print('sign do not exsit since both existingscore and observescore are below 0.5')\n",
    "else:\n",
    "    for i in range(0,len(topojson_data['features'])):\n",
    "        condition, coord = coordcheck(topojson_data['features'][i]['geometry']['coordinates'],signcord,20)\n",
    "        if condition:\n",
    "            possibledict = {'asscoiate':False}\n",
    "            temptopo = topojson_data['features'][i]\n",
    "            if i == asscoiatedindex:\n",
    "                possibledict['asscoiate'] = True\n",
    "            possibledict['index'] = i\n",
    "            possibledict['pedestrian'] = temptopo['properties']['accessCharacteristics'][0]['pedestrian']\n",
    "            # print(temptopo['properties']['accessCharacteristics'][0]['pedestrian'])\n",
    "            coordinates = temptopo['geometry']['coordinates']\n",
    "\n",
    "            totaldis = 0\n",
    "            dis=0\n",
    "            for c in range(1,len(coordinates)):\n",
    "                totaldis += haversine(coordinates[c-1][0], coordinates[c-1][1], coordinates[c][0], coordinates[c][1])\n",
    "                if coord == coordinates[c]:\n",
    "                    dis = totaldis\n",
    "            offsetindex = dis/totaldis\n",
    "\n",
    "            ranges = temptopo['properties']['topologyCharacteristics']['isMotorway']\n",
    "            speedlimitrange = temptopo['properties']['speedLimit']\n",
    "            result = find_matching_range(offsetindex, ranges)\n",
    "            speedlimithw = find_matching_range_speedlimit(offsetindex,speedlimitrange)\n",
    "            print(speedlimithw)\n",
    "            filtered_probedf= filter_by_radius(probedf,coord[1],coord[0],20,10)\n",
    "            print(not (filtered_probedf['speed'] < 10).any())\n",
    "            print(result)\n",
    "            possibledict['ismotorway'] = result or not (filtered_probedf['speed'] < 10).any() or speedlimithw\n",
    "            x, y = zip(*coordinates)  # Unpack tuples into two lists\n",
    "            allpossibledict.append(possibledict)\n",
    "            # Plot\n",
    "            plt.plot(x, y, \n",
    "                    color=next(color_cycle),\n",
    "                    marker='o',      # Add markers at each point\n",
    "                    linestyle='-',   # Solid line\n",
    "                    linewidth=2,     # Thicker line\n",
    "                    markersize=5,    # Size of markers\n",
    "                    label='Path'+str(i))\n",
    "\n",
    "\n",
    "\n",
    "\n",
    "    coordinates = asscoiatedtopo['geometry']['coordinates']\n",
    "    x, y = zip(*coordinates)\n",
    "    plt.plot(x, y, \n",
    "                    color='yellow', \n",
    "                    marker='o',      # Add markers at each point\n",
    "                    linestyle='-',   # Solid line\n",
    "                    linewidth=2,     # Thicker line\n",
    "                    markersize=5,    # Size of markers\n",
    "                    label='asscoiated')\n",
    "    plt.plot(signcord[0],signcord[1],color='black',marker='o')\n",
    "    # Customize the plot\n",
    "    plt.xlabel('Longitude')\n",
    "    plt.ylabel('Latitude')\n",
    "    plt.title('Line Plot of Coordinates')\n",
    "    plt.grid(True, linestyle='--', alpha=0.7)\n",
    "    plt.legend()\n",
    "    plt.tight_layout()\n",
    "    plt.show()"
   ]
  },
  {
   "cell_type": "code",
   "execution_count": 147,
   "metadata": {},
   "outputs": [
    {
     "data": {
      "text/plain": [
       "[{'confidence': {'featureType': 'ROAD_SPEED_LIMIT',\n",
       "   'scoreType': 'EXISTENCE',\n",
       "   'score': 0.0,\n",
       "   'updateSource': 'INJECTION_TMOB',\n",
       "   'updatedOn': '2018-05-01T00:00:00Z'},\n",
       "  'range': {'endOffset': 1.0, 'startOffset': 0.0},\n",
       "  'appliesTo': 'BOTH',\n",
       "  'isUnlimited': True,\n",
       "  'source': 'RAMP_UNPOSTED'}]"
      ]
     },
     "execution_count": 147,
     "metadata": {},
     "output_type": "execute_result"
    }
   ],
   "source": [
    "temptopo['properties']['speedLimit']"
   ]
  },
  {
   "cell_type": "code",
   "execution_count": 136,
   "metadata": {},
   "outputs": [],
   "source": [
    "def validate_topology(topology_list):\n",
    "    \"\"\"\n",
    "    Process topology list according to validation rules:\n",
    "    1. If associated topology is motorway and pedestrian=True, correct pedestrian to False\n",
    "    2. If associated topology ismotorway=False, find nearby motorway topology\n",
    "    3. If no nearby motorway found, check probe data for pedestrians\n",
    "    \"\"\"\n",
    "    \n",
    "    # Case 1: Correct pedestrian flag for motorway segments\n",
    "    for topo in topology_list:\n",
    "        if topo['asscoiate'] and topo['ismotorway']:\n",
    "            topo['pedestrian'] = False\n",
    "            return (f\"Case 3: Corrected pedestrian to False for motorway segment (index {topo['index']})\")\n",
    "    \n",
    "    # Case 2: Find nearby motorway for non-motorway segments\n",
    "    for topo in topology_list:\n",
    "        if topo['ismotorway'] and not topo['pedestrian']:\n",
    "            return (f\"Case 2: Associated with the wrong road. The correct road (index {topo['index']})\")\n",
    "    \n",
    "    return 'correct association, correct attribution​'"
   ]
  },
  {
   "cell_type": "code",
   "execution_count": 137,
   "metadata": {},
   "outputs": [
    {
     "data": {
      "text/plain": [
       "[{'asscoiate': False, 'index': 507, 'pedestrian': False, 'ismotorway': False},\n",
       " {'asscoiate': False, 'index': 510, 'pedestrian': False, 'ismotorway': False},\n",
       " {'asscoiate': True, 'index': 513, 'pedestrian': True, 'ismotorway': False}]"
      ]
     },
     "execution_count": 137,
     "metadata": {},
     "output_type": "execute_result"
    }
   ],
   "source": [
    "allpossibledict"
   ]
  },
  {
   "cell_type": "code",
   "execution_count": 138,
   "metadata": {},
   "outputs": [
    {
     "data": {
      "text/plain": [
       "'correct association, correct attribution\\u200b'"
      ]
     },
     "execution_count": 138,
     "metadata": {},
     "output_type": "execute_result"
    }
   ],
   "source": [
    "validate_topology(allpossibledict)\n",
    "\n",
    "\n"
   ]
  },
  {
   "cell_type": "markdown",
   "metadata": {},
   "source": [
    "Below is the probe solution"
   ]
  },
  {
   "cell_type": "code",
   "execution_count": 139,
   "metadata": {},
   "outputs": [],
   "source": [
    "# for i in range(0,len(topojson_data['features'])):\n",
    "#         condition, coord = coordcheck(topojson_data['features'][i]['geometry']['coordinates'],signcord,20)\n",
    "#         if condition:\n",
    "#             coordinates = topojson_data['features'][i]['geometry']['coordinates']\n",
    "#             filtered_probedf= filter_by_radius(probedf,coord[1],coord[0],20,1)\n",
    "#             print(coord)\n",
    "#             print(filtered_probedf.shape)\n",
    "#             if (filtered_probedf['speed'] < 10).any():\n",
    "#                 print('not highway')\n",
    "#             else:\n",
    "#                 print('highway')\n",
    "#             print(topojson_data['features'][i]['properties']['accessCharacteristics'][0]['pedestrian'])\n",
    "#             # Unzip coordinates into separate X and Y lists\n",
    "#             x, y = zip(*coordinates)  # Unpack tuples into two lists\n",
    "\n",
    "#             # Plot\n",
    "#             plt.plot(x, y, \n",
    "#                     color=next(color_cycle),\n",
    "#                     marker='o',      # Add markers at each point\n",
    "#                     linestyle='-',   # Solid line\n",
    "#                     linewidth=2,     # Thicker line\n",
    "#                     markersize=5,    # Size of markers\n",
    "#                     label='Path')\n",
    "#     coordinates = topojson_data['features'][676]['geometry']['coordinates']\n",
    "#     x, y = zip(*coordinates)\n",
    "#     # plt.plot(x, y, \n",
    "#     #                 color='yellow', \n",
    "#     #                 marker='o',      # Add markers at each point\n",
    "#     #                 linestyle='-',   # Solid line\n",
    "#     #                 linewidth=2,     # Thicker line\n",
    "#     #                 markersize=5,    # Size of markers\n",
    "#     #                 label='asscoiated')\n",
    "#     plt.plot(signcord[0],signcord[1],color='black',marker='o')\n",
    "#     # Customize the plot\n",
    "#     plt.xlabel('Longitude')\n",
    "#     plt.ylabel('Latitude')\n",
    "#     plt.title('Line Plot of Coordinates')\n",
    "#     plt.grid(True, linestyle='--', alpha=0.7)\n",
    "#     plt.legend()\n",
    "#     plt.tight_layout()\n",
    "#     plt.show()"
   ]
  }
 ],
 "metadata": {
  "kernelspec": {
   "display_name": ".venv",
   "language": "python",
   "name": "python3"
  },
  "language_info": {
   "codemirror_mode": {
    "name": "ipython",
    "version": 3
   },
   "file_extension": ".py",
   "mimetype": "text/x-python",
   "name": "python",
   "nbconvert_exporter": "python",
   "pygments_lexer": "ipython3",
   "version": "3.12.5"
  }
 },
 "nbformat": 4,
 "nbformat_minor": 2
}
